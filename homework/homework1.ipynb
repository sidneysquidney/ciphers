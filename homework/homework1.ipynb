{
 "cells": [
  {
   "cell_type": "markdown",
   "metadata": {},
   "source": [
    "- why use bigrams.csv instead of a list, dictionary, set, string... something within python\n",
    "- still unsure of next stage - am i supposed to get a frequency list of bigrams fro the internet?\n",
    "- hill climb seems like the algorithm i used before - didn't work - (from reading the wiki file think it finds a local optima but not the global optima)"
   ]
  },
  {
   "cell_type": "code",
   "execution_count": 1,
   "metadata": {},
   "outputs": [],
   "source": [
    "import numpy as np\n",
    "import pandas as pd\n",
    "\n",
    "alphabet = 'abcdefghijklmnopqrstuvwxyz'"
   ]
  },
  {
   "cell_type": "code",
   "execution_count": 24,
   "metadata": {},
   "outputs": [],
   "source": [
    "# function to take an encryption, count the letters/pairs - by letter count \n",
    "# (eg letter count = 1 -> a,b,c,d,e,f,g, letter count = 2 -> ab, ac, ad, ee, gr, th...)\n",
    "\n",
    "# parameters include dic (or default list), percentage (or default count), ordered, log (natural log base e)\n",
    "\n",
    "def find_ngrams(encrypted_text, letter_count, dic = False, percentage = True, ordered = True, log = False):\n",
    "# removes white space from text, and makes lower case\n",
    "    text = ''.join([l for l in encrypted_text.lower() if l in alphabet])\n",
    "#     print(text[:10000])\n",
    "# list of right length size to input ngrams into \n",
    "    number_ngrams = len(text) - letter_count + 1\n",
    "    ngrams = [None for w in range(number_ngrams)]\n",
    "    for i in range(len(ngrams)):\n",
    "        ngrams[i] = text[i: i + letter_count]\n",
    "    if dic:\n",
    "# set to make dictionary\n",
    "        ngrams_set = set(ngrams)\n",
    "        ngrams_count = {x: 0 for x in ngrams_set}\n",
    "        for g in ngrams:\n",
    "            ngrams_count[g] += 1\n",
    "        if percentage:\n",
    "            for key in ngrams_count.keys():\n",
    "                ngrams_count[key] /= number_ngrams \n",
    "                if log:\n",
    "                    ngrams_count[key] = np.log(ngrams_count[key])\n",
    "                ngrams_count[key] = round(ngrams_count[key], 3)\n",
    "        if ordered:\n",
    "            ngrams_count = sorted(ngrams_count.items(), key=lambda x:x[1], reverse = True)\n",
    "    return ngrams_count"
   ]
  },
  {
   "cell_type": "code",
   "execution_count": 25,
   "metadata": {},
   "outputs": [],
   "source": [
    "def turn_into_string(file_name):\n",
    "    with open(file_name, 'r') as file:\n",
    "        content = file.read().replace('\\n', ' ')\n",
    "#         content = [x for x in content.split(' ') if x != '']\n",
    "    return content.lower()"
   ]
  },
  {
   "cell_type": "code",
   "execution_count": 26,
   "metadata": {},
   "outputs": [],
   "source": [
    "bee_string = turn_into_string('../big_book_of_small_python_projects/ciphers/beemovie.txt')"
   ]
  },
  {
   "cell_type": "code",
   "execution_count": 9,
   "metadata": {},
   "outputs": [
    {
     "name": "stdout",
     "output_type": "stream",
     "text": [
      "True\n"
     ]
    }
   ],
   "source": [
    "# score function that takes in a list of tuples and sums the values\n",
    "\n",
    "def score(dic):\n",
    "    return sum([x[1] for x in dic])\n",
    "\n",
    "dic = {'1': 1, '2': 2}\n",
    "print(score(dic.items()) == 3)"
   ]
  },
  {
   "cell_type": "code",
   "execution_count": 77,
   "metadata": {},
   "outputs": [],
   "source": [
    "def read_bigrams(filename):\n",
    "    df = pd.read_csv(filename, delimiter=' ', names=['bigrams','count'])\n",
    "    total = sum(df['count'])\n",
    "    bigrams, count = df['bigrams'], df['count'] / total\n",
    "    frequency_dict = {bigrams[i]: np.log(count[i]) for i in range(len(bigrams))}\n",
    "    return frequency_dict"
   ]
  },
  {
   "cell_type": "code",
   "execution_count": 93,
   "metadata": {},
   "outputs": [],
   "source": [
    "ciphertext = '''\\\n",
    "UXLIRNXSOPQAKJBJTXSVTJKRHXKKJKLIQQOEBLXRSNJKWQKQKYSAQKLRVQNLJKQD\\\n",
    "QRPLJRSEWIRSWQWJHQKTRKKQRWIXSODXNXJSNJTLIQBRNLLIXNXNUIRLXYSAQKLR\\\n",
    "VQLJAJTJKEJYKQRAQK\\\n",
    "'''\n",
    "g = find_ngrams(ciphertext, 2, dic = True, log = False)"
   ]
  },
  {
   "cell_type": "markdown",
   "metadata": {},
   "source": [
    "hill climb from monogram\n",
    "hill climb from birgam - created by box fitting\n",
    "clean up\n",
    "start moving into a python file\n",
    "have a test function at the bottom of each function\n",
    "\n",
    "\n",
    "other ideas - get monograms, and bigrams, and maybe more too... then create a funciton that puts all of these together to create a key\n"
   ]
  },
  {
   "cell_type": "code",
   "execution_count": 8,
   "metadata": {},
   "outputs": [],
   "source": [
    "# clean up\n",
    "# start putting needed files in a .py\n",
    "# test function for each function\n",
    "# 1 use per fuction - assume things (eg order, log...)\n",
    "# plan of action\n",
    "# make a seperate file that has all the functions to turn things into other things - turn into string - then \n",
    "# stores them as a variable to be imported\n",
    "\n",
    "# hill climb\n",
    "# key from monograms\n",
    "# key from bigrams using box fitting\n",
    "\n",
    "# other ideas\n",
    "# dictionary of possible values - a and i only frequent 1 letter words\n",
    "# dictionary of possible values so dont have to loop through whole alphabet\n",
    "# limit search to words within letters swapping - search only words with letters aetm for those letters swapped..\n",
    "# create a function that also take in trigram frequency as well as mono and bi, then create a key from that\n",
    "# calculate the likelihood a key is correct by running just that letter in words from letters (all words with that letter tested)\n",
    "\n"
   ]
  }
 ],
 "metadata": {
  "kernelspec": {
   "display_name": "Python 3",
   "language": "python",
   "name": "python3"
  },
  "language_info": {
   "codemirror_mode": {
    "name": "ipython",
    "version": 3
   },
   "file_extension": ".py",
   "mimetype": "text/x-python",
   "name": "python",
   "nbconvert_exporter": "python",
   "pygments_lexer": "ipython3",
   "version": "3.8.5"
  }
 },
 "nbformat": 4,
 "nbformat_minor": 4
}

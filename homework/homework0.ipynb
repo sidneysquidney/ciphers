{
 "cells": [
  {
   "cell_type": "markdown",
   "metadata": {},
   "source": [
    "so the plan was to do the substitution first - and within that do the text that was seperated inot words. \n",
    "Then moving on I would tackle the substition without spaces. Then the Vinegar with the words, then without...\n",
    "\n",
    "unfortunately I didn't even manage to do the first one. Found it quite tricky but I've had lots of ideas i'm yet to fully implement but am rather hopeful will work. \n",
    "\n",
    "I started by going over your numpy use and trying to use myself. So I learnt how to use numpy and made versions \n",
    "of the encryptions below, with yours above. only one i couldn't quite understand was the np.zeros_like()\n",
    "\n",
    "tackling the substitution cipher was harder that expected. Was fine manipulating the code but realised the \n",
    "challenge was verifying my results and making incremental changes that I was assured would work. I spent a lot of\n",
    "time just seeing how text works. eg comparing how many indexes apart, the letter count of bee movie was to the \n",
    "universal letter frequency. something like - 0, 1, 1, 0, 2, 2, 4, 3, 2, 1, 4..\n",
    "\n",
    "Then i made the key according to the universal letter frequency, decrypted, did a dictionary attack (the only was I could think about verifying my tests). I then went through each letter and tried every 26 possibilites for that letter, while keeping the rest of the key the same, and at each letter running a dictionary attck. if the letter yielded more matches, i would replace that letter as the default key. This didn't work at all.\n",
    "\n",
    "Here are my other ideas I've yet to implement:\n"
   ]
  },
  {
   "cell_type": "code",
   "execution_count": 12,
   "metadata": {},
   "outputs": [],
   "source": [
    "# master function \n",
    "# take in string - encrypted\n",
    "# count letters\n",
    "# compare to lf and set key accordingly\n",
    "\n",
    "# proposed key is straight comparison. then go through each letter, keeping rest of proposed key same \n",
    "# and try each letter for different. if imporved set new proposed key. \n",
    "# loop through decrypt, with dictionary attack to see if result yields benefits  - didn't work\n",
    "\n",
    "# set as proposed key, then get pairs\n",
    "# get maybe top 5 - th, er, on, an, in - and whatever the top 5 encrypted combos are\n",
    "# make a permutations set of keys that put these encrypted combos in\n",
    "# loop thorugh these keys with a dictionary attack, seeing if any yield higher results. \n",
    "\n",
    "# do the same as above with double letters\n",
    "\n",
    "\n",
    "# limit search to compare with only words containing those letters\n",
    "# start with just 4 letters - t,e,a,n within 4 highest matches, \n",
    "# if not good, open to top 5, top 6.. still with same 4 letters though - tean within highest 6 frequencies of text\n",
    "\n",
    "\n",
    "# make a while that goes throught the methods \n",
    "\n",
    "\n",
    "# single letter words - i, a\n",
    "\n",
    "\n",
    "# make into a dictionary where unsuccessful letters are crossed off, leaving only possible values\n",
    "# eg. all 1 letter words shall either be i or a. if there are more then get the 2 most frequent\n"
   ]
  },
  {
   "cell_type": "code",
   "execution_count": 13,
   "metadata": {},
   "outputs": [],
   "source": [
    "import numpy as np\n",
    "import matplotlib.pyplot as plt\n",
    "import math"
   ]
  },
  {
   "cell_type": "code",
   "execution_count": 14,
   "metadata": {},
   "outputs": [],
   "source": [
    "start = ord('A')\n",
    "end = ord('Z')\n",
    "def encrypt_caesar(arr,key):\n",
    "    # for each element in arr this checks if the number is in the correct range\n",
    "    # if it is then it subtracts start to make it in the range (0,26) then adds \n",
    "    # the key and performs the mod function to wrap it round if needed then\n",
    "    # adds the start value back on so it's back in the range (67,90) or whatever\n",
    "    # if it's not in the range initially then it just leaves it as it is so things\n",
    "    # like '.' and ',' stay as they are.\n",
    "    return np.where((arr>=start) & (arr<=end), np.mod(arr - start + key, 26) + start, arr)"
   ]
  },
  {
   "cell_type": "code",
   "execution_count": 15,
   "metadata": {},
   "outputs": [],
   "source": [
    "# sids new caesar\n",
    "start = ord('A')\n",
    "end = ord('Z')\n",
    "def caesar_new(arr, key):\n",
    "    arr = np.array([ord(l) for l in arr.upper()])\n",
    "    new_arr = np.where((arr <= end) & (arr >= start), np.mod(arr - start + key, 26) + start, arr)\n",
    "    return ''.join([chr(l) for l in new_arr]).lower()\n",
    "    "
   ]
  },
  {
   "cell_type": "code",
   "execution_count": 16,
   "metadata": {},
   "outputs": [],
   "source": [
    "# this is my altered version of how to encrypt with the vinegere cipher\n",
    "# this index slicing stuff will be useful if you try to hack the cipher\n",
    "start = ord('A')\n",
    "end = ord('Z')\n",
    "\n",
    "def encrypt(text, key):\n",
    "    # array of integers of encrypted text\n",
    "    # key integers of key string\n",
    "    encrypted = np.zeros_like(text)\n",
    "    stride = len(key)\n",
    "    for i in range(stride):\n",
    "        text[start:end:stride]\n",
    "        encrypted[i::stride] = np.mod(text[i::stride] - start + key[i], 26) + start\n",
    "    return encrypted"
   ]
  },
  {
   "cell_type": "code",
   "execution_count": 17,
   "metadata": {},
   "outputs": [],
   "source": [
    "\n",
    "def vinegar_new(text, key):\n",
    "    arr = np.array([ord(l) for l in text.upper()])\n",
    "    new_arr = np.where((arr <= end) & (arr >= start), arr - start, arr)\n",
    "    stride = len(key)\n",
    "    keys = np.array([ord(l) - start for l in key.upper()])\n",
    "    for i in range(stride):\n",
    "        new_arr[i::stride] = np.where(new_arr[i::stride] != 32, np.mod(new_arr[i::stride] + keys[i], 26) + start, new_arr[i::stride])\n",
    "    return ''.join([chr(l) for l in new_arr]).lower()"
   ]
  },
  {
   "cell_type": "code",
   "execution_count": 18,
   "metadata": {},
   "outputs": [],
   "source": [
    "# counts frequency of letters, turns them into percentages by dividing by counter, \n",
    "# rematches to the letter, sorts by order\n",
    "def count(text):\n",
    "    a = 'abcdefghijklmnopqrstuvwxyz'\n",
    "    dic = {letter:0 for letter in a}\n",
    "    counter = 0\n",
    "    for letter in text.lower():\n",
    "        if letter in a:\n",
    "            dic[letter] += 1\n",
    "            counter += 1\n",
    "    for k in dic.keys():\n",
    "        dic[k] = round(dic[k] / counter * 100, 2)\n",
    "    return {k:v for k, v in sorted(dic.items(), key=lambda x:x[1], reverse=True)}"
   ]
  },
  {
   "cell_type": "code",
   "execution_count": 19,
   "metadata": {},
   "outputs": [],
   "source": [
    "# plots frequency onto a graph\n",
    "\n",
    "def frequency_graph(text): \n",
    "    data= count(text)\n",
    "    print(data)\n",
    "    names = list(data.keys())\n",
    "    values = list(data.values())\n",
    "    plt.bar(range(len(data)), values, tick_label=names)\n",
    "    plt.show()\n"
   ]
  },
  {
   "cell_type": "code",
   "execution_count": 20,
   "metadata": {},
   "outputs": [],
   "source": [
    "# gets permutations from a string or list, returns all possible permutations\n",
    "# eg 123 - 123,132, 231, 213, 312, 321\n",
    "\n",
    "class Permutations:\n",
    "    def __init__(self):\n",
    "        self.result = []\n",
    "    def permute(self, lst):\n",
    "        if type(lst) == str:\n",
    "            lst = [l for l in lst]\n",
    "        self.backtrack(lst, [])\n",
    "        return self.result\n",
    "    def backtrack(self, lst, path):\n",
    "        if not lst:\n",
    "            self.result.append(path)\n",
    "        for x in range(len(lst)):\n",
    "            self.backtrack(lst[:x] + lst[x + 1:], path + [lst[x]])"
   ]
  },
  {
   "cell_type": "code",
   "execution_count": 21,
   "metadata": {},
   "outputs": [],
   "source": [
    "# how many times does the code create a word that is within common words\n",
    "# eg 'asdh sdalfjads sladkfj cat' = 1\n",
    "\n",
    "def code_matches(text):\n",
    "    code_list = turn_to_list(text)\n",
    "    count = 0\n",
    "    for word in code_list:\n",
    "        if word in common_words:\n",
    "            count += 1\n",
    "    return count"
   ]
  },
  {
   "cell_type": "code",
   "execution_count": 22,
   "metadata": {},
   "outputs": [],
   "source": [
    "# counts how many times a pair of letters was found in the text\n",
    "# eg ab = 0, ac = 7... tt = 6, eg = 8. 26 ** 2 combinations of letter pairs\n",
    "\n",
    "def pair_count(text):\n",
    "    pairs = {}\n",
    "    for x in alphabet:\n",
    "        for y in alphabet:\n",
    "            pairs[x + y] = 0\n",
    "    for pair in pairs.keys():\n",
    "        pairs[pair] = text.count(pair)\n",
    "    \n",
    "    return sorted(pairs.items(), key = lambda x:x[1], reverse = True)"
   ]
  },
  {
   "cell_type": "code",
   "execution_count": 23,
   "metadata": {},
   "outputs": [],
   "source": [
    "# function to get only words containing all the letters - \n",
    "# eg variable letters contains 'etao' - returns only words with those letters - eat, toe, a, to, too...\n",
    "\n",
    "def words_from_letters(letters):\n",
    "    letters = [l for l in letters]\n",
    "    print(letters)\n",
    "    words = []\n",
    "    for word in common_words:\n",
    "        new_word = ''.join([l for l in word if l in letters])\n",
    "        if new_word == word:\n",
    "            words.append(word)\n",
    "    return words\n",
    "            "
   ]
  }
 ],
 "metadata": {
  "kernelspec": {
   "display_name": "Python 3",
   "language": "python",
   "name": "python3"
  },
  "language_info": {
   "codemirror_mode": {
    "name": "ipython",
    "version": 3
   },
   "file_extension": ".py",
   "mimetype": "text/x-python",
   "name": "python",
   "nbconvert_exporter": "python",
   "pygments_lexer": "ipython3",
   "version": "3.8.5"
  }
 },
 "nbformat": 4,
 "nbformat_minor": 4
}

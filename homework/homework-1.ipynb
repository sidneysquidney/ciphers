{
 "cells": [
  {
   "cell_type": "code",
   "execution_count": 92,
   "metadata": {},
   "outputs": [],
   "source": [
    "import numpy as np\n",
    "import matplotlib.pyplot as plt\n",
    "import math"
   ]
  },
  {
   "cell_type": "code",
   "execution_count": 4,
   "metadata": {},
   "outputs": [],
   "source": [
    "start = ord('A')\n",
    "end = ord('Z')\n",
    "def encrypt_caesar(arr,key):\n",
    "    # for each element in arr this checks if the number is in the correct range\n",
    "    # if it is then it subtracts start to make it in the range (0,26) then adds \n",
    "    # the key and performs the mod function to wrap it round if needed then\n",
    "    # adds the start value back on so it's back in the range (67,90) or whatever\n",
    "    # if it's not in the range initially then it just leaves it as it is so things\n",
    "    # like '.' and ',' stay as they are.\n",
    "    return np.where((arr>=start) & (arr<=end), np.mod(arr - start + key, 26) + start, arr)"
   ]
  },
  {
   "cell_type": "code",
   "execution_count": 5,
   "metadata": {},
   "outputs": [],
   "source": [
    "# sids new caesar\n",
    "start = ord('A')\n",
    "end = ord('Z')\n",
    "def caesar_new(arr, key):\n",
    "    arr = np.array([ord(l) for l in arr.upper()])\n",
    "    new_arr = np.where((arr <= end) & (arr >= start), np.mod(arr - start + key, 26) + start, arr)\n",
    "    return ''.join([chr(l) for l in new_arr]).lower()\n",
    "    "
   ]
  },
  {
   "cell_type": "code",
   "execution_count": 6,
   "metadata": {},
   "outputs": [],
   "source": [
    "# this is my altered version of how to encrypt with the vinegere cipher\n",
    "# this index slicing stuff will be useful if you try to hack the cipher\n",
    "start = ord('A')\n",
    "end = ord('Z')\n",
    "\n",
    "def encrypt(text, key):\n",
    "    # array of integers of encrypted text\n",
    "    # key integers of key string\n",
    "    encrypted = np.zeros_like(text)\n",
    "    stride = len(key)\n",
    "    for i in range(stride):\n",
    "        text[start:end:stride]\n",
    "        encrypted[i::stride] = np.mod(text[i::stride] - start + key[i], 26) + start\n",
    "    return encrypted"
   ]
  },
  {
   "cell_type": "code",
   "execution_count": 52,
   "metadata": {},
   "outputs": [],
   "source": [
    "def vinegar_new(text, key):\n",
    "    arr = np.array([ord(l) for l in text.upper()])\n",
    "    new_arr = np.where((arr <= end) & (arr >= start), arr - start, arr)\n",
    "    stride = len(key)\n",
    "    keys = np.array([ord(l) - start for l in key.upper()])\n",
    "    for i in range(stride):\n",
    "        new_arr[i::stride] = np.where(new_arr[i::stride] != 32, np.mod(new_arr[i::stride] + keys[i], 26) + start, new_arr[i::stride])\n",
    "    return ''.join([chr(l) for l in new_arr]).lower()"
   ]
  },
  {
   "cell_type": "code",
   "execution_count": 207,
   "metadata": {},
   "outputs": [],
   "source": [
    "# counts frequency of letters, turns them into percentages by dividing by counter, rematches to the letter, sorts by order\n",
    "def count(text):\n",
    "    a = 'abcdefghijklmnopqrstuvwxyz'\n",
    "    dic = {letter:0 for letter in a}\n",
    "    counter = 0\n",
    "    for letter in text.lower():\n",
    "        if letter in a:\n",
    "            dic[letter] += 1\n",
    "            counter += 1\n",
    "    for k in dic.keys():\n",
    "        dic[k] = round(dic[k] / counter * 100, 2)\n",
    "    return {k:v for k, v in sorted(dic.items(), key=lambda x:x[1], reverse=True)}"
   ]
  },
  {
   "cell_type": "code",
   "execution_count": 215,
   "metadata": {},
   "outputs": [],
   "source": [
    "def frequency_graph(text): \n",
    "    data= count(text)\n",
    "    print(data)\n",
    "    names = list(data.keys())\n",
    "    values = list(data.values())\n",
    "    plt.bar(range(len(data)), values, tick_label=names)\n",
    "    plt.show()\n"
   ]
  },
  {
   "cell_type": "code",
   "execution_count": 101,
   "metadata": {},
   "outputs": [],
   "source": [
    "def frequency_graph_from_dict(d):\n",
    "    names = list(d.keys())\n",
    "    values = list(d.values())\n",
    "    plt.bar(range(len(d)), values, tick_label=names)\n",
    "    plt.show()"
   ]
  },
  {
   "cell_type": "code",
   "execution_count": 91,
   "metadata": {},
   "outputs": [],
   "source": [
    "# get the frequency of letters\n",
    "# get the frequency of frequency of letters\n",
    "# check which ones are the closest by ordering\n"
   ]
  },
  {
   "cell_type": "code",
   "execution_count": 103,
   "metadata": {},
   "outputs": [],
   "source": [
    "letter_frequency = {'E' : 12.0,\n",
    "'T' : 9.10,\n",
    "'A' : 8.12,\n",
    "'O' : 7.68,\n",
    "'I' : 7.31,\n",
    "'N' : 6.95,\n",
    "'S' : 6.28,\n",
    "'R' : 6.02,\n",
    "'H' : 5.92,\n",
    "'D' : 4.32,\n",
    "'L' : 3.98,\n",
    "'U' : 2.88,\n",
    "'C' : 2.71,\n",
    "'M' : 2.61,\n",
    "'F' : 2.30,\n",
    "'Y' : 2.11,\n",
    "'W' : 2.09,\n",
    "'G' : 2.03,\n",
    "'P' : 1.82,\n",
    "'B' : 1.49,\n",
    "'V' : 1.11,\n",
    "'K' : 0.69,\n",
    "'X' : 0.17,\n",
    "'Q' : 0.11,\n",
    "'J' : 0.10,\n",
    "'Z' : 0.07 }\n"
   ]
  },
  {
   "cell_type": "code",
   "execution_count": 104,
   "metadata": {},
   "outputs": [
    {
     "data": {
      "image/png": "[encoded data removed]",
      "text/plain": [
       "<Figure size 432x288 with 1 Axes>"
      ]
     },
     "metadata": {
      "needs_background": "light"
     },
     "output_type": "display_data"
    }
   ],
   "source": [
    "frequency_graph_from_dict(letter_frequency)"
   ]
  },
  {
   "cell_type": "code",
   "execution_count": null,
   "metadata": {},
   "outputs": [],
   "source": []
  }
 ],
 "metadata": {
  "kernelspec": {
   "display_name": "Python 3",
   "language": "python",
   "name": "python3"
  },
  "language_info": {
   "codemirror_mode": {
    "name": "ipython",
    "version": 3
   },
   "file_extension": ".py",
   "mimetype": "text/x-python",
   "name": "python",
   "nbconvert_exporter": "python",
   "pygments_lexer": "ipython3",
   "version": "3.8.5"
  }
 },
 "nbformat": 4,
 "nbformat_minor": 4
}

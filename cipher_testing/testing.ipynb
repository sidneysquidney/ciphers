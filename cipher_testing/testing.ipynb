{
 "cells": [
  {
   "cell_type": "code",
   "execution_count": 86,
   "metadata": {},
   "outputs": [],
   "source": [
    "import numpy as np\n",
    "import pandas as pd\n",
    "import random\n",
    "alphabet = 'abcdefghijklmnopqrstuvwxyz'"
   ]
  },
  {
   "cell_type": "code",
   "execution_count": 87,
   "metadata": {},
   "outputs": [
    {
     "name": "stdout",
     "output_type": "stream",
     "text": [
      "True\n"
     ]
    }
   ],
   "source": [
    "# returns the string from a text file, all in lower case\n",
    "\n",
    "def turn_into_string(file_name):\n",
    "    with open(file_name, 'r') as file:\n",
    "        content = file.read().replace('\\n', ' ')\n",
    "    return content.lower()\n",
    "\n",
    "bee1 = turn_into_string('../texts/beemovie.txt')\n",
    "print(bee1[:9] == 'according')"
   ]
  },
  {
   "cell_type": "code",
   "execution_count": 801,
   "metadata": {},
   "outputs": [
    {
     "name": "stdout",
     "output_type": "stream",
     "text": [
      "True\n"
     ]
    }
   ],
   "source": [
    "# returns a list of words from a string when the string is seperated by spaces. \n",
    "\n",
    "def turn_to_list(string):\n",
    "    return [x.strip('.,!?') for x in string.split(' ') if x != '' or x not in alphabet]\n",
    "\n",
    "bee1_list = turn_to_list(bee1)\n",
    "print(bee1_list[1] == 'to')"
   ]
  },
  {
   "cell_type": "code",
   "execution_count": 460,
   "metadata": {},
   "outputs": [
    {
     "name": "stdout",
     "output_type": "stream",
     "text": [
      "True\n"
     ]
    }
   ],
   "source": [
    "# list of all the most common words in the english language\n",
    "\n",
    "common_words = turn_to_list(turn_into_string('../texts/google-10000-english-no-swears.txt'))\n",
    "ciphertext = '''\\\n",
    "UXLIRNXSOPQAKJBJTXSVTJKRHXKKJKLIQQOEBLXRSNJKWQKQKYSAQKLRVQNLJKQD\\\n",
    "QRPLJRSEWIRSWQWJHQKTRKKQRWIXSODXNXJSNJTLIQBRNLLIXNXNUIRLXYSAQKLR\\\n",
    "VQLJAJTJKEJYKQRAQK\\\n",
    "'''\n",
    "words_from_letters = {x: {}}\n",
    "\n",
    "print(common_words[2] == 'and')"
   ]
  },
  {
   "cell_type": "code",
   "execution_count": 453,
   "metadata": {},
   "outputs": [
    {
     "name": "stdout",
     "output_type": "stream",
     "text": [
      "True\n"
     ]
    }
   ],
   "source": [
    "# returns the natural log of the percentage of each bigram from a csv file\n",
    "# eg 'th' count 100, divide by total number of bigrams for percentage, find natural log.\n",
    "\n",
    "def read_bigrams(filename):\n",
    "    df = pd.read_csv(filename, delimiter=' ', names=['bigrams','count'], keep_default_na=False)\n",
    "    total = sum(df['count'])\n",
    "    bigrams, count = df['bigrams'], df['count'] / total\n",
    "    frequency_dict = {bigrams[i].lower(): np.log(count[i]) for i in range(len(bigrams))}\n",
    "    return frequency_dict\n",
    "\n",
    "bigrams = read_bigrams('../texts/bigrams.csv')\n",
    "bigrams_list = [x for x in bigrams.keys()]\n",
    "print(bigrams['he'] == -3.7599265883973865)"
   ]
  },
  {
   "cell_type": "code",
   "execution_count": 154,
   "metadata": {},
   "outputs": [],
   "source": [
    "# dictinary and list of most frequent monograms in the english language\n",
    "\n",
    "monograms = {'E' : 12.0,'T' : 9.10,'A' : 8.12,'O' : 7.68,'I' : 7.31,'N' : 6.95,'S' : 6.28,'R' : 6.02,\n",
    "'H' : 5.92,'D' : 4.32,'L' : 3.98,'U' : 2.88,'C' : 2.71,'M' : 2.61,'F' : 2.30,'Y' : 2.11,'W' : 2.09,'G' : 2.03,\n",
    "'P' : 1.82,'B' : 1.49,'V' : 1.11,'K' : 0.69,'X' : 0.17,'Q' : 0.11,'J' : 0.10,'Z' : 0.07 }\n",
    "\n",
    "monograms_list = [l.lower() for l in monograms.keys()]"
   ]
  },
  {
   "cell_type": "code",
   "execution_count": 975,
   "metadata": {},
   "outputs": [
    {
     "name": "stdout",
     "output_type": "stream",
     "text": [
      "True\n"
     ]
    }
   ],
   "source": [
    "# classic substitution cipher to encrypt/decrypt normal string - returns an encrypted text[0], and a key as a list[1]\n",
    "\n",
    "def encrypt(text, key = None):\n",
    "    if not key:\n",
    "        key = [l for l in alphabet]\n",
    "        random.shuffle(key)\n",
    "    code = ''\n",
    "    for letter in text.lower():\n",
    "        if letter not in alphabet:\n",
    "            code += letter\n",
    "        else:\n",
    "            code += key[alphabet.index(letter)]\n",
    "    return code, key\n",
    "\n",
    "def decrypt(text, key):\n",
    "    code = ''\n",
    "    for letter in text.lower():\n",
    "        if letter not in alphabet:\n",
    "            code += letter\n",
    "        else:\n",
    "            code += alphabet[key.index(letter)]\n",
    "    return code\n",
    "\n",
    "encrypted_bee, test_key = encrypt(bee1)\n",
    "print(decrypt(encrypted_bee[:100], test_key) == bee1[:100])"
   ]
  },
  {
   "cell_type": "code",
   "execution_count": 647,
   "metadata": {},
   "outputs": [
    {
     "name": "stdout",
     "output_type": "stream",
     "text": [
      "True\n"
     ]
    }
   ],
   "source": [
    "# score function that takes in a list of bigrams and sums the values from the bigrams dictionary\n",
    "\n",
    "def score(list_of_bigrams):\n",
    "    lst = [[x, bigrams[x]] for x in list_of_bigrams]\n",
    "    return sum([x[1] for x in lst])\n",
    "\n",
    "print(score(find_ngrams(ciphertext, 2, dic = False)) == -1380.9684879021993)"
   ]
  },
  {
   "cell_type": "code",
   "execution_count": 606,
   "metadata": {},
   "outputs": [
    {
     "name": "stdout",
     "output_type": "stream",
     "text": [
      "True\n"
     ]
    }
   ],
   "source": [
    "# score function that takes 2 keys, tells how many letters are matching and which ones (letters = True)\n",
    "\n",
    "def score2(key1, key2, letters = False):\n",
    "    count = 0\n",
    "    connects = ''\n",
    "    for i in range(len(key1)):\n",
    "        if key1[i] == key2[i]:\n",
    "            count += 1\n",
    "            connects += alphabet[i]\n",
    "    if letters:\n",
    "        return count, connects\n",
    "    return count\n",
    "    \n",
    "print(score2(alphabet, 'abc11111111111111111111111') == 3)"
   ]
  },
  {
   "cell_type": "code",
   "execution_count": 1050,
   "metadata": {},
   "outputs": [],
   "source": [
    "class MinHeapString:\n",
    "    def __init__(self, heap_limit = 10):\n",
    "        self.count = 0\n",
    "        self.heap_list = [None]\n",
    "        self.max = None\n",
    "        self.heap_limit = heap_limit\n",
    "    def left_child_idx(self, idx):\n",
    "        return idx * 2\n",
    "    def right_child_idx(self, idx):\n",
    "        return idx * 2 + 1\n",
    "    def parent_idx(self, idx):\n",
    "        return idx // 2\n",
    "    def has_children(self, idx):\n",
    "        return self.left_child_idx(idx) <= self.count\n",
    "    def smaller_child_idx(self, idx):\n",
    "        if self.has_children(idx):\n",
    "            if self.right_child_idx(idx) > self.count:\n",
    "                return self.left_child_idx(idx)\n",
    "            else:\n",
    "                left = self.left_child_idx(idx)\n",
    "                right = self.right_child_idx(idx)\n",
    "                if self.heap_list[left][1] < self.heap_list[right][1]:\n",
    "                    return left\n",
    "                else:\n",
    "                    return right \n",
    "    def add(self, value):      \n",
    "        if (self.count < self.heap_limit) or (value[1] > self.heap_list[1][1]):\n",
    "            self.heap_list.append(value) \n",
    "            self.count += 1\n",
    "            self.heapify_up(self.count)\n",
    "            if not self.max:\n",
    "                self.max = value\n",
    "            elif value[1] > self.max[1]:\n",
    "                self.max = value\n",
    "            if self.count > self.heap_limit:\n",
    "                self.remove_min(\n",
    "    def remove_min(self):\n",
    "        smallest = self.heap_list[1]\n",
    "        temp = self.heap_list[self.count]\n",
    "        self.heap_list[1] = temp\n",
    "        self.heap_list[self.count] = smallest\n",
    "        self.heap_list.pop()\n",
    "        self.count -= 1\n",
    "        self.heapify_down()\n",
    "        return smallest\n",
    "    def heapify_up(self, idx):\n",
    "        while self.parent_idx(idx) > 0:\n",
    "            parent = self.parent_idx(idx)\n",
    "            if self.heap_list[parent][1] > self.heap_list[idx][1]:\n",
    "                temp = self.heap_list[parent]\n",
    "                self.heap_list[parent] = self.heap_list[idx]\n",
    "                self.heap_list[idx] = temp\n",
    "            idx = self.parent_idx(idx)\n",
    "    def heapify_down(self):\n",
    "        idx = 1\n",
    "        while self.has_children(idx):\n",
    "            new_index = self.smaller_child_idx(idx)\n",
    "            if self.heap_list[idx][1] > self.heap_list[self.smaller_child_idx(idx)][1]:\n",
    "                temp = self.heap_list[idx]\n",
    "                self.heap_list[idx] = self.heap_list[self.smaller_child_idx(idx)]\n",
    "                self.heap_list[self.smaller_child_idx(idx)] = temp\n",
    "            idx = new_index"
   ]
  },
  {
   "cell_type": "code",
   "execution_count": 607,
   "metadata": {},
   "outputs": [
    {
     "name": "stdout",
     "output_type": "stream",
     "text": [
      "True\n"
     ]
    }
   ],
   "source": [
    "# gets permutations from a string or list, returns all possible permutations\n",
    "# eg 123 - 123,132, 231, 213, 312, 321\n",
    "\n",
    "class Permutations:\n",
    "    def __init__(self):\n",
    "        self.result = []\n",
    "        self.n = n\n",
    "    def permute(self, lst):\n",
    "        self.backtrack(lst, [])\n",
    "        return self.result\n",
    "    def backtrack(self, lst, path):\n",
    "        if not lst:\n",
    "            self.result.append(path)\n",
    "        for x in range(len(lst)):\n",
    "            self.backtrack(lst[:x] + lst[x + 1:], path + [lst[x]])\n",
    "\n",
    "permute_test = Permutations()\n",
    "print(permute_test.permute([l for l in 'abc']) == [['a', 'b', 'c'], ['a', 'c', 'b'],['b', 'a', 'c'],\n",
    "                                                   ['b', 'c', 'a'],['c', 'a', 'b'], ['c', 'b', 'a']])\n"
   ]
  },
  {
   "cell_type": "code",
   "execution_count": 934,
   "metadata": {},
   "outputs": [
    {
     "name": "stdout",
     "output_type": "stream",
     "text": [
      "True\n",
      "True\n"
     ]
    }
   ],
   "source": [
    "# gets permutations from a string or list, returns all possible permutations of length n, repeats allowed\n",
    "# eg 123, n = 2 - 11, 12, 13, 21, 22, 23, 31, 32, 33\n",
    "# this is also a helper function to create a dictionary of ngrams\n",
    "\n",
    "class Permutations2:\n",
    "    def __init__(self, n = 1):\n",
    "        self.result = []\n",
    "        self.n = n\n",
    "    def permute(self, lst):\n",
    "        self.backtrack(lst, [])\n",
    "        return self.result\n",
    "    def backtrack(self, lst, path):\n",
    "        if len(path) == self.n:\n",
    "            self.result.append(path)           \n",
    "        for x in range(len(lst)):\n",
    "            if len(path) == self.n:\n",
    "                continue\n",
    "            self.backtrack(lst, path + [lst[x]])\n",
    "    def convert_to_combinations(self):\n",
    "        self.result = list(set([tuple(sorted(lst)) for lst in bigrams_set_list if lst.count(lst[0]) == 1]))\n",
    "        \n",
    "\n",
    "permute_test2 = Permutations2(n = 2)\n",
    "print(permute_test2.permute([l for l in 'abc']) == [['a', 'a'], ['a', 'b'], ['a', 'c'], \n",
    "                                                    ['b', 'a'], ['b', 'b'], ['b', 'c'], \n",
    "                                                    ['c', 'a'], ['c', 'b'], ['c', 'c']])\n",
    "bigram_set = Permutations2(2)\n",
    "bigram_set.permute([l for l in alphabet])\n",
    "bigram_set.convert_to_combinations()\n",
    "print(len(bigram_set.result) == 325)"
   ]
  },
  {
   "cell_type": "code",
   "execution_count": 820,
   "metadata": {},
   "outputs": [
    {
     "name": "stdout",
     "output_type": "stream",
     "text": [
      "True\n"
     ]
    }
   ],
   "source": [
    "# create a dictionary of all the grams of n length, going to 0\n",
    "\n",
    "def create_dictionary(n):\n",
    "    keys = Permutations2(n)\n",
    "    keys.permute(alphabet)\n",
    "    dictionary = {''.join(x): 0 for x in keys.result}\n",
    "    return dictionary\n",
    "\n",
    "dictionary_test = create_dictionary(2)\n",
    "print(dictionary_test['bb'] == 0)"
   ]
  },
  {
   "cell_type": "code",
   "execution_count": 1044,
   "metadata": {},
   "outputs": [
    {
     "name": "stdout",
     "output_type": "stream",
     "text": [
      "True\n"
     ]
    }
   ],
   "source": [
    "# function to take an encryption, count the letters/pairs - by letter count \n",
    "# (eg letter count = 1 -> a,b,c,d,e,f,g, letter count = 2 -> ab, ac, ad, ee, gr, th...)\n",
    "# parameters include dic/list, percentage, ordered, log\n",
    "\n",
    "def find_ngrams(text, letter_count, dic = True, percentage = True, ordered = True, log = True, zeroes = False):\n",
    "    text = ''.join([l for l in text.lower() if l in alphabet])\n",
    "    number_ngrams = len(text) - letter_count + 1\n",
    "    ngrams = [None for g in range(number_ngrams)]\n",
    "    for i in range(len(ngrams)):\n",
    "        ngrams[i] = text[i: i + letter_count]  \n",
    "    if dic:\n",
    "        ngrams_set = set(ngrams)\n",
    "        ngrams_count = create_dictionary(letter_count)\n",
    "        for g in ngrams:\n",
    "            ngrams_count[g] += 1\n",
    "        if percentage:\n",
    "            for key in ngrams_count.keys():\n",
    "                ngrams_count[key] /= number_ngrams \n",
    "                if log:\n",
    "                    if ngrams_count[key] == 0:\n",
    "                        continue\n",
    "                    ngrams_count[key] = np.log(ngrams_count[key])\n",
    "        if ordered:\n",
    "            ngrams_count = sorted(ngrams_count.items(), key=lambda x:x[1], reverse = True)\n",
    "        if not zeroes:\n",
    "            ngrams_count = [x for x in ngrams_count if x[1] != 0]\n",
    "        return ngrams_count\n",
    "    return ngrams\n",
    "\n",
    "print(find_ngrams(bee1, 2)[0][0] == 'th')"
   ]
  },
  {
   "cell_type": "code",
   "execution_count": 611,
   "metadata": {},
   "outputs": [
    {
     "name": "stdout",
     "output_type": "stream",
     "text": [
      "True\n"
     ]
    }
   ],
   "source": [
    "# how many times does the code create a word that is within common words (or special list containing certain characters)\n",
    "# eg 'asdh sdalfjads sladkfj cat' = 1\n",
    "\n",
    "def code_matches(text, words = common_words):\n",
    "    code_list = turn_to_list(text)\n",
    "    count = 0\n",
    "    for word in code_list:\n",
    "        if word in common_words:\n",
    "            count += 1\n",
    "    return count\n",
    "\n",
    "print(code_matches(bee1[:16]) == 3)"
   ]
  },
  {
   "cell_type": "code",
   "execution_count": 1309,
   "metadata": {},
   "outputs": [
    {
     "name": "stdout",
     "output_type": "stream",
     "text": [
      "True\n"
     ]
    }
   ],
   "source": [
    "# return a list of words (from common words or a given list) made using the letters, or containing\n",
    "\n",
    "def words_from_letters(letters, word_search = common_words, containing = False):\n",
    "    letters = set([l for l in letters])\n",
    "    words = []\n",
    "    for word in word_search:\n",
    "        if containing:\n",
    "            if len(set(list(word)).intersection(letters)) > 0:\n",
    "                words.append(word)\n",
    "                continue\n",
    "        if set(list(word)).issubset(letters):\n",
    "            words.append(word)\n",
    "    return words\n",
    "\n",
    "containing_dictionary = {l: words_from_letters(l, containing = True) for l in alphabet}\n",
    "print(words_from_letters('o') == ['o', 'oo', 'ooo'])"
   ]
  },
  {
   "cell_type": "code",
   "execution_count": 1436,
   "metadata": {},
   "outputs": [
    {
     "name": "stdout",
     "output_type": "stream",
     "text": [
      "True\n"
     ]
    }
   ],
   "source": [
    "# return a string swapping letter at index1 with letter at index2\n",
    "\n",
    "def swap(string, index1, index2):\n",
    "    if index1 == index2:\n",
    "        return string\n",
    "    index1, index2 = min(index1, index2), max(index1, index2)\n",
    "    return string[:index1] + string[index2] + string[index1 + 1:index2] + string[index1] + string[index2 + 1:]\n",
    "\n",
    "print(swap('sidney', 1, 2) == 'sdiney')"
   ]
  },
  {
   "cell_type": "code",
   "execution_count": 1437,
   "metadata": {},
   "outputs": [
    {
     "name": "stdout",
     "output_type": "stream",
     "text": [
      "True\n"
     ]
    }
   ],
   "source": [
    "# get start key for the hill climb from the list of monograms in the encyrypted text\n",
    "\n",
    "def hillclimb_key(encrypted_text):\n",
    "    frequency = find_ngrams(encrypted_text, 1, zeroes = True, log = False)\n",
    "    start_key = ''\n",
    "    for l in alphabet:\n",
    "        i = monograms_list.index(l)\n",
    "        start_key += frequency[i][0]\n",
    "    return start_key\n",
    "\n",
    "monogram_key = hillclimb_key(encrypted_bee)\n",
    "print(hillclimb_key(ciphertext)[0] == 'j')"
   ]
  },
  {
   "cell_type": "code",
   "execution_count": 1417,
   "metadata": {},
   "outputs": [],
   "source": [
    "correct_ciphertext = 'withasingledropofinkforamirrortheegyptiansorcererundertakestorevealtoanychancecomerfarreachingvisionsofthepastthisiswhatiundertaketodoforyoureader'\n",
    "correct_ciphertext_key = 'rcwaqtoixmvphsjbgknlydufez'\n",
    "incorrect_letters = 'blvfmpk'"
   ]
  },
  {
   "cell_type": "code",
   "execution_count": 1451,
   "metadata": {},
   "outputs": [
    {
     "name": "stdout",
     "output_type": "stream",
     "text": [
      "withasingledrofopinkporavirrortheegyftiansorcererundertakestoremealtoanychancecoverparreachingmisionsopthefastthisiswhatiundertaketodoporyoureader\n",
      "what are the wrong letters?fpvm\n",
      "('withasingledropofinkforamirrortheegyptiansorcererundertakestorevealtoanychancecomerfarreachingvisionsofthepastthisiswhatiundertaketodoforyoureader', 'abcdepghijklvnofqrstumwxyz')\n",
      "is this (r)ight or (w)rongr\n",
      "True\n"
     ]
    }
   ],
   "source": [
    "# second stage of decryption. take mostly completed text, instead of fixing the key, start a new key to alter\n",
    "# takes user input and asks which letters are in the wrong places. then switches all around\n",
    "\n",
    "def dictionary_attack5(text):\n",
    "    print(text)\n",
    "    incorrect = input('what are the wrong letters?')\n",
    "    keys = letters_to_keys(incorrect, alphabet)\n",
    "    keys_count = []\n",
    "    for i in range(len(keys)):\n",
    "        decrypted_text = encrypt(text, keys[i])[0]\n",
    "#         print(decrypted_text)\n",
    "        count = len([word for word in common_words if word in decrypted_text])\n",
    "        keys_count.append([keys[i], count])\n",
    "#         print(i, keys[i], count, decrypted_text == correct_ciphertext)\n",
    "    keys_count = sorted(keys_count, key=lambda x:x[1], reverse = True)\n",
    "    while True:\n",
    "        key = keys_count.pop(0)[0]\n",
    "        print(encrypt(text, key))\n",
    "        satisfied = input('is this (r)ight or (w)rong')\n",
    "        if satisfied == 'r':\n",
    "            break\n",
    "    return key\n",
    "\n",
    "print(dictionary_attack5(decrypt(ciphertext, 'rcwaqboixzvpdsjtgknlyhufem')) == 'abcdepghijklvnofqrstumwxyz')"
   ]
  },
  {
   "cell_type": "code",
   "execution_count": 1444,
   "metadata": {},
   "outputs": [
    {
     "name": "stdout",
     "output_type": "stream",
     "text": [
      "True\n"
     ]
    }
   ],
   "source": [
    "# gets the bigrams count, and creates a key that matches a text that most resembles the english language. \n",
    "\n",
    "def hillclimb_score(encrypted_text):\n",
    "    start_key = hillclimb_key(encrypted_text)\n",
    "    potential_new_keys = MinHeapString()\n",
    "    potential_new_keys.add([start_key, score(find_ngrams(ciphertext, 2, dic = False))])\n",
    "    count = 0\n",
    "    while True:\n",
    "        count += 1\n",
    "        for i1 in range(len(start_key)):\n",
    "            for i2 in range(len(start_key)):\n",
    "                if i1 == i2:\n",
    "                    continue\n",
    "                key = swap(start_key, i1, i2)\n",
    "                key_score = score(find_ngrams(decrypt(encrypted_text, key), 2, dic = False))\n",
    "                potential_new_keys.add([key, key_score])\n",
    "#         start_key = random.choice(potential_new_keys.heap_list[1:])[0]\n",
    "        start_key = potential_new_keys.max[0]\n",
    "        if count == 25:\n",
    "            break\n",
    "    return start_key\n",
    "\n",
    "bigram_score_key = hillclimb_score(ciphertext)\n",
    "print(bigram_score_key == 'rvwaqboixmctdsjpgknlyhufez')"
   ]
  },
  {
   "cell_type": "code",
   "execution_count": 1443,
   "metadata": {},
   "outputs": [
    {
     "name": "stdout",
     "output_type": "stream",
     "text": [
      "True\n"
     ]
    }
   ],
   "source": [
    "# takes in letters, returns a list of all the possible keys made by mixing those letters within the key\n",
    "\n",
    "def letters_to_keys(letters, key):\n",
    "    key_indicies = [key.index(l) for l in letters]\n",
    "    index_permutations = Permutations()\n",
    "    index_permutations.permute(key_indicies)\n",
    "    keys = []\n",
    "    for lst in index_permutations.result:\n",
    "        key = list(key)\n",
    "        for i in range(len(lst)):\n",
    "            key[lst[i]] = letters[i]\n",
    "        keys.append(''.join(key))\n",
    "    return keys\n",
    "\n",
    "print(letters_to_keys('vm', 'rcwaqtoixmvpdsjbgknlyhufez')\n",
    "      == ['rcwaqtoixmvpdsjbgknlyhufez', 'rcwaqtoixvmpdsjbgknlyhufez'])"
   ]
  },
  {
   "cell_type": "code",
   "execution_count": 1446,
   "metadata": {},
   "outputs": [],
   "source": [
    "# helper function to take text with 2 keys to decrypt, then encrypt, and therefore decrypt overall\n",
    "\n",
    "def double_key_combo(text, key1, key2):\n",
    "    return encrypt(decrypt(text, key1), key2)[0]"
   ]
  },
  {
   "cell_type": "code",
   "execution_count": 1450,
   "metadata": {},
   "outputs": [
    {
     "name": "stdout",
     "output_type": "stream",
     "text": [
      "withasingpedrofolinbloravirrortheegyftiansorcererundertabestoremeaptoanychancecoverlarreachingmisionsolthefastthisiswhatiundertabetodoloryoureader\n",
      "what are the wrong letters?blvfmpk\n",
      "('withasingledropofinbforamirrortheegyptiansorcererundertabestorevealtoanychancecomerfarreachingvisionsofthepastthisiswhatiundertabetodoforyoureader', 'abcdepghijkfvnolqrstumwxyz')\n",
      "is this (r)ight or (w)rongw\n",
      "('withasingledromofinbforapirrortheegymtiansorcererundertabestorevealtoanychancecoperfarreachingvisionsofthemastthisiswhatiundertabetodoforyoureader', 'abcdemghijkfvnolqrstupwxyz')\n",
      "is this (r)ight or (w)rongw\n",
      "('withasingledropofinkforamirrortheegyptiansorcererundertakestorevealtoanychancecomerfarreachingvisionsofthepastthisiswhatiundertaketodoforyoureader', 'akcdepghijbfvnolqrstumwxyz')\n",
      "is this (r)ight or (w)rongr\n",
      "True\n"
     ]
    }
   ],
   "source": [
    "# combination of bigram_hillclimb_score, and dicitonary attack 5. \n",
    "# Uses 2 keys, one obtained from each, to decrypt a text, you can get the keys with get_keys parameter\n",
    "\n",
    "def substitution_decrypt(text, get_keys = False):\n",
    "    key1 = hillclimb_score(text)\n",
    "    text2 = decrypt(text, key1)\n",
    "    key2 = dictionary_attack5(text2)\n",
    "    if get_keys:\n",
    "        return double_key_combo(text, key1, key2), [key1, key2]\n",
    "    return double_key_combo(text, key1, key2)\n",
    "    \n",
    "incorrect_letters = 'blvfmpk'\n",
    "print(substitution_decrypt(ciphertext) == correct_ciphertext)"
   ]
  },
  {
   "cell_type": "code",
   "execution_count": null,
   "metadata": {},
   "outputs": [],
   "source": []
  }
 ],
 "metadata": {
  "kernelspec": {
   "display_name": "Python 3",
   "language": "python",
   "name": "python3"
  },
  "language_info": {
   "codemirror_mode": {
    "name": "ipython",
    "version": 3
   },
   "file_extension": ".py",
   "mimetype": "text/x-python",
   "name": "python",
   "nbconvert_exporter": "python",
   "pygments_lexer": "ipython3",
   "version": "3.8.5"
  }
 },
 "nbformat": 4,
 "nbformat_minor": 4
}

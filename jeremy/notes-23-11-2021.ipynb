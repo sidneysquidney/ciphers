{
 "cells": [
  {
   "cell_type": "code",
   "execution_count": null,
   "metadata": {},
   "outputs": [],
   "source": [
    "# move into folders so you can import the code like this:\n",
    "import ..ciphers.caesar_cipher"
   ]
  },
  {
   "cell_type": "markdown",
   "metadata": {},
   "source": [
    "### index of coincidence \n",
    "\n",
    "[Index of coincidence](https://en.wikipedia.org/wiki/Index_of_coincidence)\n",
    "\n",
    "A value we can calculate for our whole message which tells us how English-like our text is. First step for vinegar cipher is find the length of the keyword so this should help us out.\n",
    "\n",
    "Incorrect keyword will just index of coincidence of 1.0 because it'll be out of phase with the real key leading to just a sequence of random letters. If the key length is correct then the whole sequence will have the right distribution of letters which is characterised by IOC.\n",
    "\n",
    "Once we have the key length, $n$, we can then treat the problem as $n$ separate caesar ciphers and we'll use a frequency attack to solve that."
   ]
  },
  {
   "cell_type": "markdown",
   "metadata": {},
   "source": [
    "Make a calc_ioc function using the equation in the wikipedia page and examples to help you.\n",
    "\n",
    "Use that to create a `find_key_length` or `calc_ioc_key_length` function to find the right key length for a vinegere cipher.\n",
    "\n",
    "Maybe create an example of an encrypted text with a simple vinegere cipher to test on\n",
    "\n",
    "Let's say for now the key is \"key\". \n",
    "\n",
    "The couple of lines below may help when finding the IOC for each key length but let me know if you want more help."
   ]
  },
  {
   "cell_type": "code",
   "execution_count": null,
   "metadata": {},
   "outputs": [],
   "source": [
    "# start is the offset from the beginning, loop over the starts and average the IOCs you find\n",
    "# this gives the overall index of coincidence for that key_len\n",
    "splits = ciphertext[start::key_len]\n",
    "iocs[start] = calc_ioc(splits)"
   ]
  }
 ],
 "metadata": {
  "language_info": {
   "name": "python"
  },
  "orig_nbformat": 4
 },
 "nbformat": 4,
 "nbformat_minor": 2
}

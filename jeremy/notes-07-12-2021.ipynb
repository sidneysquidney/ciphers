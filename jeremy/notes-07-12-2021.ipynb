{
 "cells": [
  {
   "cell_type": "markdown",
   "metadata": {},
   "source": [
    "# TODO:\n",
    "\n",
    "- Continue moving the cipher functions into python files inside the folder `cipher`.\n",
    "- Alongside each script `<name>.py` have a corresponding test script `test_<name>.py` with the print statements you made in the notebooks. If you don't have any then create them. If you write new functions try to come up with some. Sometimes you may need more than one statement to test that the function is really doing what it should be.\n",
    "- I have started you off just so you can see the format I think is best for now\n",
    "- Also note I've created a `freq_analysis` file where you can put the ngrams and index of coincidence stuff.\n",
    "- I've created a `main.ipynb` which for now will be where we use the `cipher` package. \n",
    "- In this notebook, try to write some code which will go through the full flow chart we created to crack a cipher. \n",
    "- Try to use the hillclimb function I defined in `hillclimb.py`. You'll need to have a neighbours function which gets the neighbours of the current key depending on what type of cipher we think it is.\n",
    "- Take a look at what I've written below for details on how to pass function to functions and also how this can be used to create decorators \n",
    "- I would say defining your own decorators is an intermediate/advanced python skill so don't worry too much about it if it's confusing. It's also fairly specific to python so may not be essential to your understanding of general programming principles.\n"
   ]
  },
  {
   "cell_type": "markdown",
   "metadata": {},
   "source": [
    "## Passing objects to functions\n",
    "\n",
    "It is useful to be able to generalise functions we write so we can reuse them in other settings. One way we can do this is with classes, passing instances of classes to a function. For example, you wrote the MinHeapStack class and the Permutation class and used them in functions. This could be generalised by not just creating an instance of those classes in the function but by passing the instance as an argument:\n",
    "```python\n",
    "minheap = MinHeapStack()\n",
    "best_key = hillclimb(minheap, ciphertext, ...)\n",
    "```\n",
    "The function `hillclimb` does not know anything about `minheap` but will probably just expect it to behave in a certain way. As long as the object `minheap` obeys the rules `hillclimb` uses it for, we could give it anything. \n",
    "\n",
    "This is really useful in programming because it *decouples* the function `hillclimb` from the class `MinHeapStack`. In this case it doesn't matter much (so don't actually do this in the code) since we won't use anything else in place of this `MinHeapStack` class. In theory, however, we could start to use different things which may behave in different ways under the hood but look the same from the outside (ie. have the same method names).\n",
    "\n",
    "## Passing functions to functions\n",
    "\n",
    "The same is true for functions. If all we care about is one function that we want to change, it might make more sense to just pass a single function to another function, rather than a whole instance of a class.\n",
    "\n",
    "Again, by letting a function take another function as an argument we can *decouple* the first function from the second. As long as we know what arguments the function we've given it takes, we can call it and expect it to give the result we want (as long as we've coded it properly).\n"
   ]
  },
  {
   "cell_type": "code",
   "execution_count": 29,
   "metadata": {},
   "outputs": [
    {
     "name": "stdout",
     "output_type": "stream",
     "text": [
      "7\n",
      "This is a custom print:  7\n"
     ]
    }
   ],
   "source": [
    "# an example\n",
    "def custom_print(message):\n",
    "    print(\"This is a custom print: \", message)\n",
    "\n",
    "def func(print_func, a, b):\n",
    "    # do some stuff\n",
    "    c = a + b\n",
    "    print_func(c)\n",
    "\n",
    "# pass the normal print function\n",
    "func(print, 3, 4)\n",
    "# pass it our custom version\n",
    "func(custom_print, 3, 4)"
   ]
  },
  {
   "cell_type": "markdown",
   "metadata": {},
   "source": [
    "As you can see, this allows us to have a sort of *plugin* structure. We don't care how the passed function does what it does, we just make sure its inputs and outputs are the same.\n",
    "\n",
    "## Passing function with arguments to another function"
   ]
  },
  {
   "cell_type": "code",
   "execution_count": 30,
   "metadata": {},
   "outputs": [
    {
     "data": {
      "text/plain": [
       "[180, 580, 980, 1380, 1780]"
      ]
     },
     "execution_count": 30,
     "metadata": {},
     "output_type": "execute_result"
    }
   ],
   "source": [
    "def score(val1, val2):\n",
    "    return sum([val2*v1 for v1 in val1])\n",
    "\n",
    "def find_multiple_scores(score_func, score_args=()):\n",
    "    return_vals = [None]*5\n",
    "    for i in range(5):\n",
    "        a = list(range(i*10,(i+1)*10))\n",
    "        return_vals[i] = score_func(a, *score_args)\n",
    "    return return_vals\n",
    "\n",
    "find_multiple_scores(score, (4,))"
   ]
  },
  {
   "cell_type": "markdown",
   "metadata": {},
   "source": [
    "So this worked because we created a tuple of arguments `score_args` (which was just a tuple of length one with `val2=4`).\n",
    "\n",
    "In the hillclimb implementation I put in `hillclimb.py`, this is the technique I used. As long as we know what arguments `score_func` takes, we can pass them as a tuple.\n",
    "\n",
    "The `*score_args` just unpacks the tuple and this notation is used quite a bit. I've put a sort of minimal example below"
   ]
  },
  {
   "cell_type": "code",
   "execution_count": 31,
   "metadata": {},
   "outputs": [
    {
     "name": "stdout",
     "output_type": "stream",
     "text": [
      "example 4 20.5\n"
     ]
    }
   ],
   "source": [
    "tuple_of_things = ('example', 4, 20.5)\n",
    "print(*tuple_of_things)"
   ]
  },
  {
   "cell_type": "markdown",
   "metadata": {},
   "source": [
    "Similarly, if you had a dictionary rather than a tuple, you could unpack all the things in the dictionary with a `**`.\n",
    "\n",
    "This is used when you have key word arguments. You can create a dictionary and unpack it "
   ]
  },
  {
   "cell_type": "code",
   "execution_count": 32,
   "metadata": {},
   "outputs": [
    {
     "name": "stdout",
     "output_type": "stream",
     "text": [
      "example 4 20.5\n"
     ]
    }
   ],
   "source": [
    "dic = {'a_string': 'example', 'num': 4, 'flt': 20.5}\n",
    "\n",
    "def func(a_string='', num=2, flt=2.3):\n",
    "    print(a_string, num, flt)\n",
    "\n",
    "func(**dic)"
   ]
  },
  {
   "cell_type": "markdown",
   "metadata": {},
   "source": [
    "You can then put these ideas together by passing a tuple of unknown arguments `*args` and a group of unkown key word arguments `**kwargs` to a function. These arguments could then be used within that function or, in this case, you can just pass them to the `score_func` if that function knows what to do with them."
   ]
  },
  {
   "cell_type": "code",
   "execution_count": 33,
   "metadata": {},
   "outputs": [
    {
     "data": {
      "text/plain": [
       "[180, 580, 980, 1380, 1780]"
      ]
     },
     "execution_count": 33,
     "metadata": {},
     "output_type": "execute_result"
    }
   ],
   "source": [
    "def find_multiple_scores(score_func, *args, **kwargs):\n",
    "    return_vals = [None]*5\n",
    "    for i in range(5):\n",
    "        a = list(range(i*10,(i+1)*10))\n",
    "        return_vals[i] = score_func(a, *args, **kwargs)\n",
    "    return return_vals\n",
    "\n",
    "find_multiple_scores(score, 4)"
   ]
  },
  {
   "cell_type": "markdown",
   "metadata": {},
   "source": [
    "As you can see, this ends up working the same as before. **Be careful about using this**, only use when necessary because while it might seem nice and quick to write, it can lead to confusion. Suddenly you don't know what things are being given to `score_func`, anything could be passed which could cause the function to throw an error. It can also just be hard to see what is actually going on now. \n",
    "\n",
    "This is why I used the other method for the hillclimb function.\n",
    "\n",
    "The reason I've shown you this though is because it's used for decorators..."
   ]
  },
  {
   "cell_type": "markdown",
   "metadata": {},
   "source": [
    "## Timing Code\n",
    "\n",
    "the example below is the simplest method but is cumbersome to write every time"
   ]
  },
  {
   "cell_type": "code",
   "execution_count": 34,
   "metadata": {},
   "outputs": [
    {
     "name": "stdout",
     "output_type": "stream",
     "text": [
      "1.0151584000004732\n"
     ]
    }
   ],
   "source": [
    "from time import sleep, perf_counter\n",
    "\n",
    "start = perf_counter()\n",
    "sleep(1)\n",
    "end = perf_counter()\n",
    "print(end-start)"
   ]
  },
  {
   "cell_type": "markdown",
   "metadata": {},
   "source": [
    "When you open files, the primitive way would be like this:"
   ]
  },
  {
   "cell_type": "code",
   "execution_count": 35,
   "metadata": {},
   "outputs": [
    {
     "name": "stdout",
     "output_type": "stream",
     "text": [
      "1. jr wr wkh dlusruw\n",
      "\n"
     ]
    }
   ],
   "source": [
    "f = open('../._encrypted.txt')\n",
    "lines = f.readlines()\n",
    "f.close()\n",
    "\n",
    "print(lines[1])"
   ]
  },
  {
   "cell_type": "markdown",
   "metadata": {},
   "source": [
    "A better and cleaner way is like this:"
   ]
  },
  {
   "cell_type": "code",
   "execution_count": 36,
   "metadata": {},
   "outputs": [
    {
     "name": "stdout",
     "output_type": "stream",
     "text": [
      "1. jr wr wkh dlusruw\n",
      "\n"
     ]
    }
   ],
   "source": [
    "with open('../._encrypted.txt') as f:\n",
    "    lines = f.readlines()\n",
    "\n",
    "print(lines[1])"
   ]
  },
  {
   "cell_type": "markdown",
   "metadata": {},
   "source": [
    "I say better because if something breaks in this `with` block, it will make sure the file closes before python shuts down.\n",
    "\n",
    "Also because it automatically closes the file at the end, we know how long the file is open for, which improves readability and clarity of the code"
   ]
  },
  {
   "cell_type": "markdown",
   "metadata": {},
   "source": [
    "We can create our own `with` blocks is using a context manager. Below is an example context manager which is a function. It gets the time at the start, then the `yield` statement tells python to leave the function, go do whatever else it needs to do and then come back once it's done the other stuff inside the block. Once it comes back it finds what the time is now and then prints out the difference."
   ]
  },
  {
   "cell_type": "code",
   "execution_count": 37,
   "metadata": {},
   "outputs": [],
   "source": [
    "from contextlib import contextmanager\n",
    "\n",
    "@contextmanager\n",
    "def timer():\n",
    "    start = perf_counter()\n",
    "    yield\n",
    "    end = perf_counter()\n",
    "    print(\"Time Elapsed: \",end-start)"
   ]
  },
  {
   "cell_type": "code",
   "execution_count": 38,
   "metadata": {},
   "outputs": [
    {
     "name": "stdout",
     "output_type": "stream",
     "text": [
      "Time Elapsed:  2.004457000000002\n"
     ]
    }
   ],
   "source": [
    "with timer() as t:\n",
    "    # stuff can happen here but I'll just tell python to wait for 2 seconds\n",
    "    sleep(2)"
   ]
  },
  {
   "cell_type": "markdown",
   "metadata": {},
   "source": [
    "Another method (and probably more useful way in this context), is to define a class. This timer class has just two methods. `__enter__` tells python to run this function when you open a `with Timer() as t:` block. You can then do whatever you want in the block and once the block is finished or fails it will run the `__exit__` method. Don't worry about the extra arguments for this method.\n",
    "\n",
    "The cool thing about this way is that we can store how long the `with` block took and then use it at a later time."
   ]
  },
  {
   "cell_type": "code",
   "execution_count": 39,
   "metadata": {},
   "outputs": [],
   "source": [
    "class Timer:\n",
    "    def __enter__(self):\n",
    "        self.time = perf_counter()\n",
    "        return self\n",
    "\n",
    "    def __exit__(self, *args):\n",
    "        self.time = perf_counter() - self.time"
   ]
  },
  {
   "cell_type": "markdown",
   "metadata": {},
   "source": [
    "The two ways I use the Timer class below are doing the same thing but clearly the first looks much nicer and is how it's meant to be used. Hopefully this emphasises how the `with` statement is working."
   ]
  },
  {
   "cell_type": "code",
   "execution_count": 40,
   "metadata": {},
   "outputs": [
    {
     "name": "stdout",
     "output_type": "stream",
     "text": [
      "2.001679900000454\n",
      "2.0075294999996913\n"
     ]
    }
   ],
   "source": [
    "\n",
    "with Timer() as t:\n",
    "    sleep(2)\n",
    "\n",
    "# can do other things here\n",
    "print(t.time)\n",
    "\n",
    "new_timer = Timer()\n",
    "new_timer.__enter__()\n",
    "sleep(2)\n",
    "new_timer.__exit__()\n",
    "\n",
    "print(new_timer.time)\n",
    "\n"
   ]
  },
  {
   "cell_type": "markdown",
   "metadata": {},
   "source": [
    "Context managers are cool but you probably won't need to write your own very often. It is nice to understand what they are though and why they are useful in certain circumstances. Feel free to use the `Timer` class in your code if you want to quickly time how long a block of code is taking.\n",
    "\n",
    "## Timing functions\n",
    "\n",
    "If you just want to time how long a function takes then we can use a decorator instead. \n",
    "\n",
    "Decorators are statements we put just before a function which *wraps* a function with some extra functionality.\n",
    "\n",
    "A decorator is essentially a nice way to redefine a function with this extra functionality without having to write some horrible boilerplate code.\n",
    "\n",
    "To create a decorator, we take a function as an argument and whatever arguments that function would have taken. We can write these arguments with the `*args, **kwargs` syntax I discussed earlier.\n",
    "\n",
    "This function which is going to be our decorator then defines a new function which is our old function `func` but with the added functionality to it. This decorator function then returns this new function so we can use it whenever we want."
   ]
  },
  {
   "cell_type": "code",
   "execution_count": 41,
   "metadata": {},
   "outputs": [],
   "source": [
    "from functools import wraps\n",
    "\n",
    "def timeit(func):\n",
    "    start = perf_counter()\n",
    "    @wraps(func)\n",
    "    def wrapper_timer(*args, **kwargs):\n",
    "        tic = perf_counter()\n",
    "        value = func(*args, **kwargs)\n",
    "        toc = perf_counter()\n",
    "        elapsed_time = toc - tic\n",
    "        print(f\"Elapsed time: {elapsed_time:0.4f} seconds\")\n",
    "        return value\n",
    "    return wrapper_timer"
   ]
  },
  {
   "cell_type": "markdown",
   "metadata": {},
   "source": [
    "So just to recap, this `wrapper_timer` is a new function we have defined which takes the same arguments as our previous function `func` and does the same thing. The only difference is that it starts a timer at the beginning and then prints how long the function took at the end.\n",
    "\n",
    "How do we use this decorator function then? Well a rudimentary way would be like this:"
   ]
  },
  {
   "cell_type": "code",
   "execution_count": 42,
   "metadata": {},
   "outputs": [
    {
     "name": "stdout",
     "output_type": "stream",
     "text": [
      "Elapsed time: 2.0006 seconds\n"
     ]
    }
   ],
   "source": [
    "def func1():\n",
    "    sleep(2)\n",
    "\n",
    "# we want to time func1 so we use timeit to create a new function which will wrao around func1. \n",
    "# we call this new function func1 again.\n",
    "# this has the result of just adding the timing functionality to our original function\n",
    "func1 = timeit(func1)\n",
    "\n",
    "func1()"
   ]
  },
  {
   "cell_type": "markdown",
   "metadata": {},
   "source": [
    "The nicer way which decorators give us is to use the `@` syntax. This does what the previous bit did, it automatically redefines the function so that it does the timing stuff."
   ]
  },
  {
   "cell_type": "code",
   "execution_count": 43,
   "metadata": {},
   "outputs": [
    {
     "name": "stdout",
     "output_type": "stream",
     "text": [
      "Elapsed time: 1.0079 seconds\n"
     ]
    }
   ],
   "source": [
    "@timeit\n",
    "def func2():\n",
    "    sleep(1)\n",
    "\n",
    "func2()\n"
   ]
  },
  {
   "cell_type": "markdown",
   "metadata": {},
   "source": [
    "Hopefully this makes some sense. If not don't worry about it too much, you can just use `Timer` and `@timeit` if you want without knowing too much about the inner workings. This is the true power of decorators, you can be told *how* to use them without knowing what they actually do behind the scenes."
   ]
  }
 ],
 "metadata": {
  "interpreter": {
   "hash": "ee44c854a9b80cad61487e373c308766c9a648a8ec0d2e75d2343bb1b568fdcb"
  },
  "kernelspec": {
   "display_name": "Python 3.9.4 64-bit ('activeflows': conda)",
   "language": "python",
   "name": "python3"
  },
  "language_info": {
   "codemirror_mode": {
    "name": "ipython",
    "version": 3
   },
   "file_extension": ".py",
   "mimetype": "text/x-python",
   "name": "python",
   "nbconvert_exporter": "python",
   "pygments_lexer": "ipython3",
   "version": "3.9.4"
  },
  "orig_nbformat": 4
 },
 "nbformat": 4,
 "nbformat_minor": 2
}
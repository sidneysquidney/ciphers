{
 "cells": [
  {
   "cell_type": "markdown",
   "metadata": {},
   "source": [
    "## Plan of action\n",
    "\n",
    "1. We have text which is encrypted. First task is to go through and find all the bigrams in the encrypted text\n",
    "2. Start with a guess for what the key is\n",
    "3. Decrypt the list of bigrams with the key\n",
    "4. Use the score function to see how \"good\" this decryption is\n",
    "\n",
    "If you can get the hill climb method to find neighbouring choices for what the keys might be then you can just feed them into steps 3 and 4 to see how good those keys are \n",
    "\n",
    "Before doing the full hill-climb method it would be nice to test this score function so we know it works so I've found a small example for you to test it on.\n",
    "\n",
    "You'll notice that once we've got a list of the bigrams from the text, that's all we ever have to decrypt and then evaluate. Only at the end, once you've got a good idea of what the right key is, will you then want to use that key to decrypt the original `ciphertext`"
   ]
  },
  {
   "cell_type": "markdown",
   "metadata": {},
   "source": [
    "For now we'll use a shorter and easier message to decrypt:"
   ]
  },
  {
   "cell_type": "code",
   "execution_count": 1,
   "metadata": {},
   "outputs": [],
   "source": [
    "ciphertext = '''\\\n",
    "UXLIRNXSOPQAKJBJTXSVTJKRHXKKJKLIQQOEBLXRSNJKWQKQKYSAQKLRVQNLJKQD\\\n",
    "QRPLJRSEWIRSWQWJHQKTRKKQRWIXSODXNXJSNJTLIQBRNLLIXNXNUIRLXYSAQKLR\\\n",
    "VQLJAJTJKEJYKQRAQK\\\n",
    "'''"
   ]
  },
  {
   "cell_type": "markdown",
   "metadata": {},
   "source": [
    "Make a function which reads in the bigrams.csv data and returns a dictionary with the bigrams and their *frequencies* which should look like:\n",
    "```\n",
    "freq = {'TH': 0.027056980400061274,\n",
    " 'HE': 0.0232854497343354,\n",
    " 'IN': 0.020275533912479046,\n",
    " 'ER': 0.017838136076634363,\n",
    " 'AN': 0.016136243079947415,\n",
    " 'RE': 0.014089222456964019,\n",
    " 'ES': 0.013198141738779546,\n",
    " ...\n",
    "}\n",
    "```\n",
    "We actually want the logarithm of these frequencies so we can just add them up later (don't worry about the maths too much for now). You can use the function `np.log` to get a new dictionary called `log_freq` which should look like:\n",
    "```\n",
    "log_freq = {'TH': -3.609810251525098,\n",
    " 'HE': -3.7599265883973865,\n",
    " 'IN': -3.8983403457895744,\n",
    " 'ER': -4.026416637297975,\n",
    " 'AN': -4.126687413994796,\n",
    " 'RE': -4.262345138628024,\n",
    " 'ES': -4.327679236665061,\n",
    " ...\n",
    "}\n",
    "```\n",
    "(You may want to change have the keys in lower case form, it's up to you.)"
   ]
  },
  {
   "cell_type": "markdown",
   "metadata": {},
   "source": [
    "We then want a `find_ngrams` function which goes through and gives us a list of all the bigrams in the `ciphertext` (the total number of ngrams should be `len_ngrams = len(text) - n + 1`) so for bigrams it should be `len_ngrams = len(text) - 1`. This might help you make the right size array or at least check it's the right length at the end.\n",
    "\n",
    "The output of `find_ngrams` is `ngrams`, a list of all the bigrams which we can then use to calculate a score. \n",
    "\n",
    "This score function, let's call it `score_ngrams`, is the *sum* of the *log* of the *frequencies* of our bigrams in normal text. So we should be able to loop through `ngrams` and use our `log_freq` dictionary to get the individual score for each bigram and sum it all up. You're pretty good with list comprehension stuff so I think you should be able to do this calculation on one line. Again this might seem quite technical but hopefully you can get the function working with the examples below for now and we can discuss the details again next time we meet up."
   ]
  },
  {
   "cell_type": "markdown",
   "metadata": {},
   "source": [
    "As a test, I think the result should be\n",
    "```\n",
    "score_ngrams(ngrams, log_freq)\n",
    ">>> -1380.9684879021993\n",
    "```\n",
    "\n",
    "The task then becomes finding a key to change what these ngrams are so that we can make the result of `score_ngrams` as big (less negative) as possible.\n",
    "\n",
    "You'll need to write a function which takes a `key` and changes all the characters in `ngrams` according to that key to give you some `decrypted_ngrams`. \n",
    "```\n",
    "decrypted_ngrams = decrypt_ngrams(ngrams, key)\n",
    "```\n",
    "Note: you already have function to decrypt some general text of a substitution cipher with some key. Perhaps you can use that to decrypt each bigram in `ngrams`?\n",
    "\n",
    "`decrypted_ngrams` should just be another list of bigrams but hopefully is more similar to english than before. You can then chuck this into our score function to see how good it is."
   ]
  },
  {
   "cell_type": "markdown",
   "metadata": {},
   "source": [
    "For another checkpoint, I've got an example key and if you decrypt with this key and then evaluate the score you should get the following result:\n",
    "```\n",
    "key = 'VIPGNWLECMXOHYTRBJDAFZSUKQ'\n",
    "ngrams = find_ngrams(ciphertext)\n",
    "decrypted_ngrams = decrypt_ngrams(ngrams, key)\n",
    "score_ngrams(decrypted_ngrams, log_freq)\n",
    ">>> -1241.7577615321488\n",
    "```\n",
    "So this random key actually improved the decryption quite a lot.\n",
    "\n",
    "Now you should have the pieces to evaluate how good any key is for some given bit of text. The rest I will leave for you to try for now with the hill-climb method. Hopefully you can have a go at putting it together, the hardest bit is probably finding all the possible neighbours of a given key."
   ]
  }
 ],
 "metadata": {
  "interpreter": {
   "hash": "ee44c854a9b80cad61487e373c308766c9a648a8ec0d2e75d2343bb1b568fdcb"
  },
  "kernelspec": {
   "display_name": "Python 3",
   "language": "python",
   "name": "python3"
  },
  "language_info": {
   "codemirror_mode": {
    "name": "ipython",
    "version": 3
   },
   "file_extension": ".py",
   "mimetype": "text/x-python",
   "name": "python",
   "nbconvert_exporter": "python",
   "pygments_lexer": "ipython3",
   "version": "3.8.5"
  }
 },
 "nbformat": 4,
 "nbformat_minor": 2
}
